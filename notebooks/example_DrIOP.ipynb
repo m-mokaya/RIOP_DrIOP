{
 "cells": [
  {
   "cell_type": "code",
   "execution_count": 1,
   "metadata": {},
   "outputs": [],
   "source": [
    "import os\n",
    "import re\n",
    "import json\n",
    "import tempfile\n",
    "import argparse"
   ]
  },
  {
   "cell_type": "code",
   "execution_count": null,
   "metadata": {},
   "outputs": [],
   "source": [
    "# --------- change these path variables as required\n",
    "reinvent_dir = \"{path to location}\"\n",
    "reinvent_env = \"{path to environment file}\"\n",
    "output_dir = \"{output location path}\"\n",
    "\n",
    "prior = \"{path to prior model}\"\n",
    "first_agent = \"{path to first agent model}\"\n",
    "second_agent = \"{path to second agent model}\"\n",
    "\n",
    "# scoring function parameters (change this accordingly)\n",
    "low = 0.5\n",
    "high = 0.9 "
   ]
  },
  {
   "cell_type": "code",
   "execution_count": null,
   "metadata": {},
   "outputs": [],
   "source": [
    "# if required, generate a folder to store the results\n",
    "try:\n",
    "    os.mkdir(output_dir)\n",
    "except FileExistsError:\n",
    "    pass"
   ]
  },
  {
   "cell_type": "code",
   "execution_count": null,
   "metadata": {},
   "outputs": [],
   "source": [
    "# initialize the dictionary\n",
    "configuration = {\n",
    "    \"version\": 2,                          # we are going to use REINVENT's newest release\n",
    "    \"run_type\": \"reinforcement_learning\"   # other run types: \"sampling\", \"validation\",\n",
    "                                           #                  \"transfer_learning\",\n",
    "                                           #                  \"scoring\" and \"create_model\"\n",
    "}"
   ]
  },
  {
   "cell_type": "code",
   "execution_count": null,
   "metadata": {},
   "outputs": [],
   "source": [
    "configuration[\"logging\"] = {\n",
    "    \"recipient\": \"local\",                  # either to local logging or use a remote REST-interface\n",
    "    \"logging_frequency\": 50,               # log every x-th steps\n",
    "    \"logging_path\": os.path.join(output_dir, \"progress.log\"), # load this folder in tensorboard\n",
    "    \"resultdir\": output_dir,         # will hold the compounds (SMILES) and summaries\n",
    "    \"job_name\": \"{job_name}\",  \n",
    "    \"job_id\": 1,             # set an arbitrary job name for identification\n",
    "    \"sender\": \"\",\n",
    "}"
   ]
  },
  {
   "cell_type": "code",
   "execution_count": null,
   "metadata": {},
   "outputs": [],
   "source": [
    "# add the \"parameters\" block\n",
    "configuration[\"parameters\"] = {}\n",
    "\n",
    "\n",
    "# set all \"reinforcement learning\"-specific run parameters\n",
    "configuration[\"parameters\"][\"reinforcement_learning\"] = {\n",
    "    \"prior\": prior, # path to the pre-trained model\n",
    "    \"agent\": first_agent, # path to the pre-trained model\n",
    "    \"second_agent\": second_agent,\n",
    "    \"n_steps\": 1000,                       # the number of epochs (steps) to be performed; often 1000\n",
    "    \"sigma\": 128,                          # used to calculate the \"augmented likelihood\", see publication\n",
    "    \"learning_rate\": 0.0001,               # sets how strongly the agent is influenced by each epoch\n",
    "    \"batch_size\": 128,                     # specifies how many molecules are generated per epoch\n",
    "    \"reset\": 0,                            # if not '0', the reset the agent if threshold reached to get\n",
    "                                           # more diverse solutions\n",
    "    \"reset_score_cutoff\": 0.5,             # if resetting is enabled, this is the threshold\n",
    "    \"margin_threshold\": 50                 # specify the (positive) margin between agent and prior\n",
    "}"
   ]
  },
  {
   "cell_type": "code",
   "execution_count": null,
   "metadata": {},
   "outputs": [],
   "source": [
    "# prepare the scoring function (in this example tanimoto similarity) definition and add at the end\n",
    "scoring_function = {\n",
    "            \"name\": \"custom_sum\",              # this is our default one (alternative: \"custom_sum\")\n",
    "            \"parallel\": False,                     # sets whether components are to be executed\n",
    "                                                # in parallel; note, that python uses \"False\" / \"True\"\n",
    "                                                # but the JSON \"false\" / \"true\"\n",
    "\n",
    "            # the \"parameters\" list holds the individual components\n",
    "            \"parameters\": [\n",
    "            # add component: QED\n",
    "            {\n",
    "            \"component_type\": \"tanimoto_similarity\",\n",
    "            \"name\": \"EXP 4 - Tanimoto\",\n",
    "            \"weight\": 1,\n",
    "            \"model_path\": None,\n",
    "            \"specific_parameters\": {\n",
    "                \"transformation\": True,\n",
    "                \"transformation_type\": \"step\",\n",
    "                \"high\":high,\n",
    "                \"low\": low,            \n",
    "                    },  \n",
    "                }\n",
    "            ]\n",
    "        }\n",
    "\n",
    "configuration[\"parameters\"][\"scoring_function\"] = scoring_function"
   ]
  },
  {
   "cell_type": "code",
   "execution_count": null,
   "metadata": {},
   "outputs": [],
   "source": [
    "# prepare the inception (we do not use it in this example, so \"smiles\" is an empty list)\n",
    "configuration[\"parameters\"][\"inception\"] = {\n",
    "    \"smiles\": [],                          # fill in a list of SMILES here that can be used (or leave empty)\n",
    "    \"memory_size\": 100,                    # sets how many molecules are to be remembered\n",
    "    \"sample_size\": 10                      # how many are to be sampled each epoch from the memory\n",
    "}"
   ]
  },
  {
   "cell_type": "code",
   "execution_count": null,
   "metadata": {},
   "outputs": [],
   "source": [
    "# add a \"diversity_filter\"\n",
    "configuration[\"parameters\"][\"diversity_filter\"] =  {\n",
    "    \"name\": \"NoFilter\",                    # other options are: \"IdenticalTopologicalScaffold\", \n",
    "                                           # \"IdenticalMurckoScaffold\" and \"ScaffoldSimilarity\"\n",
    "                                           # -> use \"NoFilter\" to disable this feature\n",
    "    \"nbmax\": 25,                           # the bin size; penalization will start once this is exceeded\n",
    "    \"minscore\": 0.4,                       # the minimum total score to be considered for binning\n",
    "    \"minsimilarity\": 0.4                   # the minimum similarity to be placed into the same bin\n",
    "}"
   ]
  },
  {
   "cell_type": "code",
   "execution_count": null,
   "metadata": {},
   "outputs": [],
   "source": [
    "# write the configuration file to the disc\n",
    "configuration_JSON_path = os.path.join(output_dir, f\"RL_config_.json\")\n",
    "with open(configuration_JSON_path, 'w') as f:\n",
    "    json.dump(configuration, f, indent=4, sort_keys=True)"
   ]
  }
 ],
 "metadata": {
  "kernelspec": {
   "display_name": "Python 3.7.13 ('my-rdkit-env')",
   "language": "python",
   "name": "python3"
  },
  "language_info": {
   "codemirror_mode": {
    "name": "ipython",
    "version": 3
   },
   "file_extension": ".py",
   "mimetype": "text/x-python",
   "name": "python",
   "nbconvert_exporter": "python",
   "pygments_lexer": "ipython3",
   "version": "3.7.13"
  },
  "orig_nbformat": 4,
  "vscode": {
   "interpreter": {
    "hash": "3b93de0fa8c7fc4a1f0d2c34dbb9b2f92408ca65cb6e2135a1798c6e971c1ac5"
   }
  }
 },
 "nbformat": 4,
 "nbformat_minor": 2
}
